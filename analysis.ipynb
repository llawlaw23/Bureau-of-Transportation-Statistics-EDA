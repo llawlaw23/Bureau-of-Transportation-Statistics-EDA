{
 "cells": [
  {
   "cell_type": "markdown",
   "id": "30e7b6b0",
   "metadata": {},
   "source": [
    "# Transportation Analysis \n",
    "In this project, I’m exploring transportation data from the Bureau of Transportation Statistics (BTS) to find insights about how people and goods move across the U.S., and where improvements can be made in safety, efficiency, and environmental impact.\n",
    "\n",
    "Because the dataset is quite large, I’ll be analyzing it year by year and comparing the results across different years. To start, I’m focusing on the data for 2020, digging into that year’s trends and patterns before moving on to others.\n",
    "\n",
    "This approach helps keep the analysis manageable and lets us clearly see how transportation dynamics change over time."
   ]
  },
  {
   "cell_type": "code",
   "execution_count": 1,
   "id": "19c2f283",
   "metadata": {},
   "outputs": [],
   "source": [
    "import os\n",
    "import pandas as pd"
   ]
  },
  {
   "cell_type": "code",
   "execution_count": 2,
   "id": "b005de34",
   "metadata": {},
   "outputs": [
    {
     "name": "stderr",
     "output_type": "stream",
     "text": [
      "C:\\Users\\Law\\AppData\\Local\\Temp\\ipykernel_1144\\2553800348.py:11: DtypeWarning: Columns (9) have mixed types. Specify dtype option on import or set low_memory=False.\n",
      "  df = pd.read_csv(file_path)\n",
      "C:\\Users\\Law\\AppData\\Local\\Temp\\ipykernel_1144\\2553800348.py:11: DtypeWarning: Columns (4,11) have mixed types. Specify dtype option on import or set low_memory=False.\n",
      "  df = pd.read_csv(file_path)\n",
      "C:\\Users\\Law\\AppData\\Local\\Temp\\ipykernel_1144\\2553800348.py:11: DtypeWarning: Columns (4,11) have mixed types. Specify dtype option on import or set low_memory=False.\n",
      "  df = pd.read_csv(file_path)\n",
      "C:\\Users\\Law\\AppData\\Local\\Temp\\ipykernel_1144\\2553800348.py:11: DtypeWarning: Columns (9) have mixed types. Specify dtype option on import or set low_memory=False.\n",
      "  df = pd.read_csv(file_path)\n",
      "C:\\Users\\Law\\AppData\\Local\\Temp\\ipykernel_1144\\2553800348.py:11: DtypeWarning: Columns (4,11) have mixed types. Specify dtype option on import or set low_memory=False.\n",
      "  df = pd.read_csv(file_path)\n",
      "C:\\Users\\Law\\AppData\\Local\\Temp\\ipykernel_1144\\2553800348.py:11: DtypeWarning: Columns (4,11) have mixed types. Specify dtype option on import or set low_memory=False.\n",
      "  df = pd.read_csv(file_path)\n",
      "C:\\Users\\Law\\AppData\\Local\\Temp\\ipykernel_1144\\2553800348.py:11: DtypeWarning: Columns (4,11) have mixed types. Specify dtype option on import or set low_memory=False.\n",
      "  df = pd.read_csv(file_path)\n",
      "C:\\Users\\Law\\AppData\\Local\\Temp\\ipykernel_1144\\2553800348.py:11: DtypeWarning: Columns (4,11) have mixed types. Specify dtype option on import or set low_memory=False.\n",
      "  df = pd.read_csv(file_path)\n",
      "C:\\Users\\Law\\AppData\\Local\\Temp\\ipykernel_1144\\2553800348.py:11: DtypeWarning: Columns (4,11) have mixed types. Specify dtype option on import or set low_memory=False.\n",
      "  df = pd.read_csv(file_path)\n",
      "C:\\Users\\Law\\AppData\\Local\\Temp\\ipykernel_1144\\2553800348.py:11: DtypeWarning: Columns (4,11) have mixed types. Specify dtype option on import or set low_memory=False.\n",
      "  df = pd.read_csv(file_path)\n",
      "C:\\Users\\Law\\AppData\\Local\\Temp\\ipykernel_1144\\2553800348.py:11: DtypeWarning: Columns (4,11) have mixed types. Specify dtype option on import or set low_memory=False.\n",
      "  df = pd.read_csv(file_path)\n",
      "C:\\Users\\Law\\AppData\\Local\\Temp\\ipykernel_1144\\2553800348.py:11: DtypeWarning: Columns (4,11) have mixed types. Specify dtype option on import or set low_memory=False.\n",
      "  df = pd.read_csv(file_path)\n"
     ]
    }
   ],
   "source": [
    "main_folder = \"2020 Dataset\"\n",
    "\n",
    "all_data = []\n",
    "\n",
    "for month_folder in os.listdir(main_folder):\n",
    "    month_path = os.path.join(main_folder, month_folder)\n",
    "    if os.path.isdir(month_path):\n",
    "        for file in os.listdir(month_path):\n",
    "            if file.endswith(\".csv\"):\n",
    "                file_path = os.path.join(month_path, file)\n",
    "                df = pd.read_csv(file_path)\n",
    "                all_data.append(df)\n",
    "\n",
    "Data_2020 = pd.concat(all_data, ignore_index=True)\n"
   ]
  },
  {
   "cell_type": "code",
   "execution_count": 3,
   "id": "b4c92b6d",
   "metadata": {},
   "outputs": [
    {
     "data": {
      "text/html": [
       "<div>\n",
       "<style scoped>\n",
       "    .dataframe tbody tr th:only-of-type {\n",
       "        vertical-align: middle;\n",
       "    }\n",
       "\n",
       "    .dataframe tbody tr th {\n",
       "        vertical-align: top;\n",
       "    }\n",
       "\n",
       "    .dataframe thead th {\n",
       "        text-align: right;\n",
       "    }\n",
       "</style>\n",
       "<table border=\"1\" class=\"dataframe\">\n",
       "  <thead>\n",
       "    <tr style=\"text-align: right;\">\n",
       "      <th></th>\n",
       "      <th>TRDTYPE</th>\n",
       "      <th>USASTATE</th>\n",
       "      <th>DEPE</th>\n",
       "      <th>DISAGMOT</th>\n",
       "      <th>MEXSTATE</th>\n",
       "      <th>CANPROV</th>\n",
       "      <th>COUNTRY</th>\n",
       "      <th>VALUE</th>\n",
       "      <th>SHIPWT</th>\n",
       "      <th>FREIGHT_CHARGES</th>\n",
       "      <th>DF</th>\n",
       "      <th>CONTCODE</th>\n",
       "      <th>MONTH</th>\n",
       "      <th>YEAR</th>\n",
       "      <th>COMMODITY2</th>\n",
       "    </tr>\n",
       "  </thead>\n",
       "  <tbody>\n",
       "    <tr>\n",
       "      <th>0</th>\n",
       "      <td>1</td>\n",
       "      <td>AK</td>\n",
       "      <td>115</td>\n",
       "      <td>5</td>\n",
       "      <td>NaN</td>\n",
       "      <td>XB</td>\n",
       "      <td>1220</td>\n",
       "      <td>4660</td>\n",
       "      <td>0</td>\n",
       "      <td>67</td>\n",
       "      <td>2.0</td>\n",
       "      <td>X</td>\n",
       "      <td>4</td>\n",
       "      <td>2020</td>\n",
       "      <td>NaN</td>\n",
       "    </tr>\n",
       "    <tr>\n",
       "      <th>1</th>\n",
       "      <td>1</td>\n",
       "      <td>AK</td>\n",
       "      <td>901</td>\n",
       "      <td>5</td>\n",
       "      <td>NaN</td>\n",
       "      <td>XO</td>\n",
       "      <td>1220</td>\n",
       "      <td>14360</td>\n",
       "      <td>0</td>\n",
       "      <td>282</td>\n",
       "      <td>1.0</td>\n",
       "      <td>X</td>\n",
       "      <td>4</td>\n",
       "      <td>2020</td>\n",
       "      <td>NaN</td>\n",
       "    </tr>\n",
       "    <tr>\n",
       "      <th>2</th>\n",
       "      <td>1</td>\n",
       "      <td>AK</td>\n",
       "      <td>20XX</td>\n",
       "      <td>1</td>\n",
       "      <td>XX</td>\n",
       "      <td>NaN</td>\n",
       "      <td>2010</td>\n",
       "      <td>4293733</td>\n",
       "      <td>24971000</td>\n",
       "      <td>0</td>\n",
       "      <td>1.0</td>\n",
       "      <td>0</td>\n",
       "      <td>4</td>\n",
       "      <td>2020</td>\n",
       "      <td>NaN</td>\n",
       "    </tr>\n",
       "    <tr>\n",
       "      <th>3</th>\n",
       "      <td>1</td>\n",
       "      <td>AK</td>\n",
       "      <td>20XX</td>\n",
       "      <td>3</td>\n",
       "      <td>NaN</td>\n",
       "      <td>XA</td>\n",
       "      <td>1220</td>\n",
       "      <td>28283</td>\n",
       "      <td>443</td>\n",
       "      <td>563</td>\n",
       "      <td>1.0</td>\n",
       "      <td>X</td>\n",
       "      <td>4</td>\n",
       "      <td>2020</td>\n",
       "      <td>NaN</td>\n",
       "    </tr>\n",
       "    <tr>\n",
       "      <th>4</th>\n",
       "      <td>1</td>\n",
       "      <td>AK</td>\n",
       "      <td>20XX</td>\n",
       "      <td>3</td>\n",
       "      <td>NaN</td>\n",
       "      <td>XA</td>\n",
       "      <td>1220</td>\n",
       "      <td>29848</td>\n",
       "      <td>69</td>\n",
       "      <td>538</td>\n",
       "      <td>2.0</td>\n",
       "      <td>X</td>\n",
       "      <td>4</td>\n",
       "      <td>2020</td>\n",
       "      <td>NaN</td>\n",
       "    </tr>\n",
       "  </tbody>\n",
       "</table>\n",
       "</div>"
      ],
      "text/plain": [
       "   TRDTYPE USASTATE  DEPE  DISAGMOT MEXSTATE CANPROV  COUNTRY    VALUE  \\\n",
       "0        1       AK   115         5      NaN      XB     1220     4660   \n",
       "1        1       AK   901         5      NaN      XO     1220    14360   \n",
       "2        1       AK  20XX         1       XX     NaN     2010  4293733   \n",
       "3        1       AK  20XX         3      NaN      XA     1220    28283   \n",
       "4        1       AK  20XX         3      NaN      XA     1220    29848   \n",
       "\n",
       "     SHIPWT  FREIGHT_CHARGES   DF CONTCODE  MONTH  YEAR  COMMODITY2  \n",
       "0         0               67  2.0        X      4  2020         NaN  \n",
       "1         0              282  1.0        X      4  2020         NaN  \n",
       "2  24971000                0  1.0        0      4  2020         NaN  \n",
       "3       443              563  1.0        X      4  2020         NaN  \n",
       "4        69              538  2.0        X      4  2020         NaN  "
      ]
     },
     "execution_count": 3,
     "metadata": {},
     "output_type": "execute_result"
    }
   ],
   "source": [
    "Data_2020.head(5)"
   ]
  },
  {
   "cell_type": "markdown",
   "id": "9b51d62b",
   "metadata": {},
   "source": [
    "## Data Understanding & Preprocessing\n",
    "\n",
    "### 1. Data Overview\n",
    "- Brief description of the dataset (source, purpose, size, number of features, and observations)\n",
    "- Types of variables (numerical, categorical, datetime, etc.)\n",
    "- Initial observations about the data (e.g., imbalance, missing data, outliers)\n",
    "\n",
    "### 2. Data Quality Checks\n",
    "- Check for missing values and filling or dropping them. \n",
    "- dropping columns.\n",
    "- checking for unique values"
   ]
  },
  {
   "cell_type": "code",
   "execution_count": 4,
   "id": "f76764b9",
   "metadata": {},
   "outputs": [
    {
     "data": {
      "text/plain": [
       "(6104767, 15)"
      ]
     },
     "execution_count": 4,
     "metadata": {},
     "output_type": "execute_result"
    }
   ],
   "source": [
    "Data_2020.shape"
   ]
  },
  {
   "cell_type": "code",
   "execution_count": 5,
   "id": "d090c64e",
   "metadata": {},
   "outputs": [
    {
     "name": "stdout",
     "output_type": "stream",
     "text": [
      "<class 'pandas.core.frame.DataFrame'>\n",
      "RangeIndex: 6104767 entries, 0 to 6104766\n",
      "Data columns (total 15 columns):\n",
      " #   Column           Dtype  \n",
      "---  ------           -----  \n",
      " 0   TRDTYPE          int64  \n",
      " 1   USASTATE         object \n",
      " 2   DEPE             object \n",
      " 3   DISAGMOT         int64  \n",
      " 4   MEXSTATE         object \n",
      " 5   CANPROV          object \n",
      " 6   COUNTRY          int64  \n",
      " 7   VALUE            int64  \n",
      " 8   SHIPWT           int64  \n",
      " 9   FREIGHT_CHARGES  int64  \n",
      " 10  DF               float64\n",
      " 11  CONTCODE         object \n",
      " 12  MONTH            int64  \n",
      " 13  YEAR             int64  \n",
      " 14  COMMODITY2       float64\n",
      "dtypes: float64(2), int64(8), object(5)\n",
      "memory usage: 698.6+ MB\n"
     ]
    }
   ],
   "source": [
    "Data_2020.info()"
   ]
  },
  {
   "cell_type": "code",
   "execution_count": 6,
   "id": "80136d6c",
   "metadata": {},
   "outputs": [
    {
     "data": {
      "text/plain": [
       "TRDTYPE                  0\n",
       "USASTATE            892060\n",
       "DEPE               3818938\n",
       "DISAGMOT                 0\n",
       "MEXSTATE           4429425\n",
       "CANPROV            2907525\n",
       "COUNTRY                  0\n",
       "VALUE                    0\n",
       "SHIPWT                   0\n",
       "FREIGHT_CHARGES          0\n",
       "DF                 2067188\n",
       "CONTCODE                 0\n",
       "MONTH                    0\n",
       "YEAR                     0\n",
       "COMMODITY2         1393769\n",
       "dtype: int64"
      ]
     },
     "execution_count": 6,
     "metadata": {},
     "output_type": "execute_result"
    }
   ],
   "source": [
    "Data_2020.isnull().sum()"
   ]
  },
  {
   "cell_type": "code",
   "execution_count": 7,
   "id": "8443974f",
   "metadata": {},
   "outputs": [
    {
     "data": {
      "text/plain": [
       "MEXSTATE           0.725568\n",
       "DEPE               0.625567\n",
       "CANPROV            0.476271\n",
       "DF                 0.338619\n",
       "COMMODITY2         0.228308\n",
       "USASTATE           0.146125\n",
       "TRDTYPE            0.000000\n",
       "DISAGMOT           0.000000\n",
       "COUNTRY            0.000000\n",
       "VALUE              0.000000\n",
       "SHIPWT             0.000000\n",
       "FREIGHT_CHARGES    0.000000\n",
       "CONTCODE           0.000000\n",
       "MONTH              0.000000\n",
       "YEAR               0.000000\n",
       "dtype: float64"
      ]
     },
     "execution_count": 7,
     "metadata": {},
     "output_type": "execute_result"
    }
   ],
   "source": [
    "Data_2020.isnull().mean().sort_values(ascending=False)"
   ]
  },
  {
   "cell_type": "code",
   "execution_count": 8,
   "id": "1f607354",
   "metadata": {},
   "outputs": [],
   "source": [
    "Data_2020_1 = Data_2020.drop(columns=[\"DEPE\", \"MEXSTATE\", \"CANPROV\"])"
   ]
  },
  {
   "cell_type": "code",
   "execution_count": 9,
   "id": "54a10e74",
   "metadata": {},
   "outputs": [
    {
     "data": {
      "text/html": [
       "<div>\n",
       "<style scoped>\n",
       "    .dataframe tbody tr th:only-of-type {\n",
       "        vertical-align: middle;\n",
       "    }\n",
       "\n",
       "    .dataframe tbody tr th {\n",
       "        vertical-align: top;\n",
       "    }\n",
       "\n",
       "    .dataframe thead th {\n",
       "        text-align: right;\n",
       "    }\n",
       "</style>\n",
       "<table border=\"1\" class=\"dataframe\">\n",
       "  <thead>\n",
       "    <tr style=\"text-align: right;\">\n",
       "      <th></th>\n",
       "      <th>TRDTYPE</th>\n",
       "      <th>USASTATE</th>\n",
       "      <th>DISAGMOT</th>\n",
       "      <th>COUNTRY</th>\n",
       "      <th>VALUE</th>\n",
       "      <th>SHIPWT</th>\n",
       "      <th>FREIGHT_CHARGES</th>\n",
       "      <th>DF</th>\n",
       "      <th>CONTCODE</th>\n",
       "      <th>MONTH</th>\n",
       "      <th>YEAR</th>\n",
       "      <th>COMMODITY2</th>\n",
       "    </tr>\n",
       "  </thead>\n",
       "  <tbody>\n",
       "    <tr>\n",
       "      <th>0</th>\n",
       "      <td>1</td>\n",
       "      <td>AK</td>\n",
       "      <td>5</td>\n",
       "      <td>1220</td>\n",
       "      <td>4660</td>\n",
       "      <td>0</td>\n",
       "      <td>67</td>\n",
       "      <td>2.0</td>\n",
       "      <td>X</td>\n",
       "      <td>4</td>\n",
       "      <td>2020</td>\n",
       "      <td>NaN</td>\n",
       "    </tr>\n",
       "    <tr>\n",
       "      <th>1</th>\n",
       "      <td>1</td>\n",
       "      <td>AK</td>\n",
       "      <td>5</td>\n",
       "      <td>1220</td>\n",
       "      <td>14360</td>\n",
       "      <td>0</td>\n",
       "      <td>282</td>\n",
       "      <td>1.0</td>\n",
       "      <td>X</td>\n",
       "      <td>4</td>\n",
       "      <td>2020</td>\n",
       "      <td>NaN</td>\n",
       "    </tr>\n",
       "    <tr>\n",
       "      <th>2</th>\n",
       "      <td>1</td>\n",
       "      <td>AK</td>\n",
       "      <td>1</td>\n",
       "      <td>2010</td>\n",
       "      <td>4293733</td>\n",
       "      <td>24971000</td>\n",
       "      <td>0</td>\n",
       "      <td>1.0</td>\n",
       "      <td>0</td>\n",
       "      <td>4</td>\n",
       "      <td>2020</td>\n",
       "      <td>NaN</td>\n",
       "    </tr>\n",
       "    <tr>\n",
       "      <th>3</th>\n",
       "      <td>1</td>\n",
       "      <td>AK</td>\n",
       "      <td>3</td>\n",
       "      <td>1220</td>\n",
       "      <td>28283</td>\n",
       "      <td>443</td>\n",
       "      <td>563</td>\n",
       "      <td>1.0</td>\n",
       "      <td>X</td>\n",
       "      <td>4</td>\n",
       "      <td>2020</td>\n",
       "      <td>NaN</td>\n",
       "    </tr>\n",
       "    <tr>\n",
       "      <th>4</th>\n",
       "      <td>1</td>\n",
       "      <td>AK</td>\n",
       "      <td>3</td>\n",
       "      <td>1220</td>\n",
       "      <td>29848</td>\n",
       "      <td>69</td>\n",
       "      <td>538</td>\n",
       "      <td>2.0</td>\n",
       "      <td>X</td>\n",
       "      <td>4</td>\n",
       "      <td>2020</td>\n",
       "      <td>NaN</td>\n",
       "    </tr>\n",
       "  </tbody>\n",
       "</table>\n",
       "</div>"
      ],
      "text/plain": [
       "   TRDTYPE USASTATE  DISAGMOT  COUNTRY    VALUE    SHIPWT  FREIGHT_CHARGES  \\\n",
       "0        1       AK         5     1220     4660         0               67   \n",
       "1        1       AK         5     1220    14360         0              282   \n",
       "2        1       AK         1     2010  4293733  24971000                0   \n",
       "3        1       AK         3     1220    28283       443              563   \n",
       "4        1       AK         3     1220    29848        69              538   \n",
       "\n",
       "    DF CONTCODE  MONTH  YEAR  COMMODITY2  \n",
       "0  2.0        X      4  2020         NaN  \n",
       "1  1.0        X      4  2020         NaN  \n",
       "2  1.0        0      4  2020         NaN  \n",
       "3  1.0        X      4  2020         NaN  \n",
       "4  2.0        X      4  2020         NaN  "
      ]
     },
     "execution_count": 9,
     "metadata": {},
     "output_type": "execute_result"
    }
   ],
   "source": [
    "Data_2020_1.head(5)"
   ]
  },
  {
   "cell_type": "code",
   "execution_count": 10,
   "id": "aa153773",
   "metadata": {},
   "outputs": [
    {
     "data": {
      "text/plain": [
       "DF                 0.338619\n",
       "COMMODITY2         0.228308\n",
       "USASTATE           0.146125\n",
       "TRDTYPE            0.000000\n",
       "DISAGMOT           0.000000\n",
       "COUNTRY            0.000000\n",
       "VALUE              0.000000\n",
       "SHIPWT             0.000000\n",
       "FREIGHT_CHARGES    0.000000\n",
       "CONTCODE           0.000000\n",
       "MONTH              0.000000\n",
       "YEAR               0.000000\n",
       "dtype: float64"
      ]
     },
     "execution_count": 10,
     "metadata": {},
     "output_type": "execute_result"
    }
   ],
   "source": [
    "Data_2020_1.isnull().mean().sort_values(ascending=False)"
   ]
  },
  {
   "cell_type": "code",
   "execution_count": 11,
   "id": "69f8320e",
   "metadata": {},
   "outputs": [
    {
     "name": "stderr",
     "output_type": "stream",
     "text": [
      "C:\\Users\\Law\\AppData\\Local\\Temp\\ipykernel_1144\\4269140452.py:1: FutureWarning: Series.fillna with 'method' is deprecated and will raise in a future version. Use obj.ffill() or obj.bfill() instead.\n",
      "  Data_2020_1[\"DF\"] = Data_2020_1[\"DF\"].fillna(method=\"ffill\")\n"
     ]
    }
   ],
   "source": [
    "Data_2020_1[\"DF\"] = Data_2020_1[\"DF\"].fillna(method=\"ffill\")\n"
   ]
  },
  {
   "cell_type": "code",
   "execution_count": 12,
   "id": "6d08377d",
   "metadata": {},
   "outputs": [],
   "source": [
    "Data_2020_cleaned = Data_2020_1.dropna()"
   ]
  },
  {
   "cell_type": "code",
   "execution_count": 13,
   "id": "dc050ea5",
   "metadata": {},
   "outputs": [
    {
     "data": {
      "text/html": [
       "<div>\n",
       "<style scoped>\n",
       "    .dataframe tbody tr th:only-of-type {\n",
       "        vertical-align: middle;\n",
       "    }\n",
       "\n",
       "    .dataframe tbody tr th {\n",
       "        vertical-align: top;\n",
       "    }\n",
       "\n",
       "    .dataframe thead th {\n",
       "        text-align: right;\n",
       "    }\n",
       "</style>\n",
       "<table border=\"1\" class=\"dataframe\">\n",
       "  <thead>\n",
       "    <tr style=\"text-align: right;\">\n",
       "      <th></th>\n",
       "      <th>TRDTYPE</th>\n",
       "      <th>USASTATE</th>\n",
       "      <th>DISAGMOT</th>\n",
       "      <th>COUNTRY</th>\n",
       "      <th>VALUE</th>\n",
       "      <th>SHIPWT</th>\n",
       "      <th>FREIGHT_CHARGES</th>\n",
       "      <th>DF</th>\n",
       "      <th>CONTCODE</th>\n",
       "      <th>MONTH</th>\n",
       "      <th>YEAR</th>\n",
       "      <th>COMMODITY2</th>\n",
       "    </tr>\n",
       "  </thead>\n",
       "  <tbody>\n",
       "    <tr>\n",
       "      <th>128479</th>\n",
       "      <td>1</td>\n",
       "      <td>AK</td>\n",
       "      <td>5</td>\n",
       "      <td>2010</td>\n",
       "      <td>22370</td>\n",
       "      <td>0</td>\n",
       "      <td>0</td>\n",
       "      <td>1.0</td>\n",
       "      <td>0</td>\n",
       "      <td>4</td>\n",
       "      <td>2020</td>\n",
       "      <td>2.0</td>\n",
       "    </tr>\n",
       "    <tr>\n",
       "      <th>128480</th>\n",
       "      <td>1</td>\n",
       "      <td>AK</td>\n",
       "      <td>1</td>\n",
       "      <td>1220</td>\n",
       "      <td>108133</td>\n",
       "      <td>24698</td>\n",
       "      <td>1482</td>\n",
       "      <td>1.0</td>\n",
       "      <td>X</td>\n",
       "      <td>4</td>\n",
       "      <td>2020</td>\n",
       "      <td>3.0</td>\n",
       "    </tr>\n",
       "    <tr>\n",
       "      <th>128481</th>\n",
       "      <td>1</td>\n",
       "      <td>AK</td>\n",
       "      <td>1</td>\n",
       "      <td>1220</td>\n",
       "      <td>809104</td>\n",
       "      <td>99790</td>\n",
       "      <td>15864</td>\n",
       "      <td>1.0</td>\n",
       "      <td>X</td>\n",
       "      <td>4</td>\n",
       "      <td>2020</td>\n",
       "      <td>3.0</td>\n",
       "    </tr>\n",
       "    <tr>\n",
       "      <th>128482</th>\n",
       "      <td>1</td>\n",
       "      <td>AK</td>\n",
       "      <td>5</td>\n",
       "      <td>1220</td>\n",
       "      <td>887888</td>\n",
       "      <td>0</td>\n",
       "      <td>17546</td>\n",
       "      <td>1.0</td>\n",
       "      <td>X</td>\n",
       "      <td>4</td>\n",
       "      <td>2020</td>\n",
       "      <td>3.0</td>\n",
       "    </tr>\n",
       "    <tr>\n",
       "      <th>128483</th>\n",
       "      <td>1</td>\n",
       "      <td>AK</td>\n",
       "      <td>5</td>\n",
       "      <td>1220</td>\n",
       "      <td>76006</td>\n",
       "      <td>0</td>\n",
       "      <td>1665</td>\n",
       "      <td>1.0</td>\n",
       "      <td>X</td>\n",
       "      <td>4</td>\n",
       "      <td>2020</td>\n",
       "      <td>3.0</td>\n",
       "    </tr>\n",
       "  </tbody>\n",
       "</table>\n",
       "</div>"
      ],
      "text/plain": [
       "        TRDTYPE USASTATE  DISAGMOT  COUNTRY   VALUE  SHIPWT  FREIGHT_CHARGES  \\\n",
       "128479        1       AK         5     2010   22370       0                0   \n",
       "128480        1       AK         1     1220  108133   24698             1482   \n",
       "128481        1       AK         1     1220  809104   99790            15864   \n",
       "128482        1       AK         5     1220  887888       0            17546   \n",
       "128483        1       AK         5     1220   76006       0             1665   \n",
       "\n",
       "         DF CONTCODE  MONTH  YEAR  COMMODITY2  \n",
       "128479  1.0        0      4  2020         2.0  \n",
       "128480  1.0        X      4  2020         3.0  \n",
       "128481  1.0        X      4  2020         3.0  \n",
       "128482  1.0        X      4  2020         3.0  \n",
       "128483  1.0        X      4  2020         3.0  "
      ]
     },
     "execution_count": 13,
     "metadata": {},
     "output_type": "execute_result"
    }
   ],
   "source": [
    "Data_2020_cleaned.head(5)"
   ]
  },
  {
   "cell_type": "code",
   "execution_count": 14,
   "id": "be9a047f",
   "metadata": {},
   "outputs": [
    {
     "data": {
      "text/plain": [
       "(3818938, 12)"
      ]
     },
     "execution_count": 14,
     "metadata": {},
     "output_type": "execute_result"
    }
   ],
   "source": [
    "Data_2020_cleaned.shape"
   ]
  },
  {
   "cell_type": "code",
   "execution_count": 15,
   "id": "419b7d3c",
   "metadata": {},
   "outputs": [
    {
     "data": {
      "text/plain": [
       "0"
      ]
     },
     "execution_count": 15,
     "metadata": {},
     "output_type": "execute_result"
    }
   ],
   "source": [
    "Data_2020_cleaned.isnull().sum().sum()"
   ]
  },
  {
   "cell_type": "code",
   "execution_count": 16,
   "id": "030a1713",
   "metadata": {},
   "outputs": [
    {
     "name": "stderr",
     "output_type": "stream",
     "text": [
      "C:\\Users\\Law\\AppData\\Local\\Temp\\ipykernel_1144\\2280614508.py:11: DtypeWarning: Columns (4,11) have mixed types. Specify dtype option on import or set low_memory=False.\n",
      "  df = pd.read_csv(file_path)\n",
      "C:\\Users\\Law\\AppData\\Local\\Temp\\ipykernel_1144\\2280614508.py:11: DtypeWarning: Columns (9) have mixed types. Specify dtype option on import or set low_memory=False.\n",
      "  df = pd.read_csv(file_path)\n",
      "C:\\Users\\Law\\AppData\\Local\\Temp\\ipykernel_1144\\2280614508.py:11: DtypeWarning: Columns (4,11) have mixed types. Specify dtype option on import or set low_memory=False.\n",
      "  df = pd.read_csv(file_path)\n",
      "C:\\Users\\Law\\AppData\\Local\\Temp\\ipykernel_1144\\2280614508.py:11: DtypeWarning: Columns (4,11) have mixed types. Specify dtype option on import or set low_memory=False.\n",
      "  df = pd.read_csv(file_path)\n",
      "C:\\Users\\Law\\AppData\\Local\\Temp\\ipykernel_1144\\2280614508.py:11: DtypeWarning: Columns (4,11) have mixed types. Specify dtype option on import or set low_memory=False.\n",
      "  df = pd.read_csv(file_path)\n",
      "C:\\Users\\Law\\AppData\\Local\\Temp\\ipykernel_1144\\2280614508.py:11: DtypeWarning: Columns (4,8) have mixed types. Specify dtype option on import or set low_memory=False.\n",
      "  df = pd.read_csv(file_path)\n",
      "C:\\Users\\Law\\AppData\\Local\\Temp\\ipykernel_1144\\2280614508.py:11: DtypeWarning: Columns (4,11) have mixed types. Specify dtype option on import or set low_memory=False.\n",
      "  df = pd.read_csv(file_path)\n",
      "C:\\Users\\Law\\AppData\\Local\\Temp\\ipykernel_1144\\2280614508.py:11: DtypeWarning: Columns (4,11) have mixed types. Specify dtype option on import or set low_memory=False.\n",
      "  df = pd.read_csv(file_path)\n",
      "C:\\Users\\Law\\AppData\\Local\\Temp\\ipykernel_1144\\2280614508.py:11: DtypeWarning: Columns (4,11) have mixed types. Specify dtype option on import or set low_memory=False.\n",
      "  df = pd.read_csv(file_path)\n",
      "C:\\Users\\Law\\AppData\\Local\\Temp\\ipykernel_1144\\2280614508.py:11: DtypeWarning: Columns (4,11) have mixed types. Specify dtype option on import or set low_memory=False.\n",
      "  df = pd.read_csv(file_path)\n",
      "C:\\Users\\Law\\AppData\\Local\\Temp\\ipykernel_1144\\2280614508.py:11: DtypeWarning: Columns (4,11) have mixed types. Specify dtype option on import or set low_memory=False.\n",
      "  df = pd.read_csv(file_path)\n",
      "C:\\Users\\Law\\AppData\\Local\\Temp\\ipykernel_1144\\2280614508.py:11: DtypeWarning: Columns (4,11) have mixed types. Specify dtype option on import or set low_memory=False.\n",
      "  df = pd.read_csv(file_path)\n",
      "C:\\Users\\Law\\AppData\\Local\\Temp\\ipykernel_1144\\2280614508.py:11: DtypeWarning: Columns (4,11) have mixed types. Specify dtype option on import or set low_memory=False.\n",
      "  df = pd.read_csv(file_path)\n",
      "C:\\Users\\Law\\AppData\\Local\\Temp\\ipykernel_1144\\2280614508.py:11: DtypeWarning: Columns (4,11) have mixed types. Specify dtype option on import or set low_memory=False.\n",
      "  df = pd.read_csv(file_path)\n",
      "C:\\Users\\Law\\AppData\\Local\\Temp\\ipykernel_1144\\2280614508.py:11: DtypeWarning: Columns (4,11) have mixed types. Specify dtype option on import or set low_memory=False.\n",
      "  df = pd.read_csv(file_path)\n",
      "C:\\Users\\Law\\AppData\\Local\\Temp\\ipykernel_1144\\2280614508.py:11: DtypeWarning: Columns (4,11) have mixed types. Specify dtype option on import or set low_memory=False.\n",
      "  df = pd.read_csv(file_path)\n",
      "C:\\Users\\Law\\AppData\\Local\\Temp\\ipykernel_1144\\2280614508.py:11: DtypeWarning: Columns (4,11) have mixed types. Specify dtype option on import or set low_memory=False.\n",
      "  df = pd.read_csv(file_path)\n",
      "C:\\Users\\Law\\AppData\\Local\\Temp\\ipykernel_1144\\2280614508.py:11: DtypeWarning: Columns (4,11) have mixed types. Specify dtype option on import or set low_memory=False.\n",
      "  df = pd.read_csv(file_path)\n",
      "C:\\Users\\Law\\AppData\\Local\\Temp\\ipykernel_1144\\2280614508.py:11: DtypeWarning: Columns (4,11) have mixed types. Specify dtype option on import or set low_memory=False.\n",
      "  df = pd.read_csv(file_path)\n",
      "C:\\Users\\Law\\AppData\\Local\\Temp\\ipykernel_1144\\2280614508.py:11: DtypeWarning: Columns (4,11) have mixed types. Specify dtype option on import or set low_memory=False.\n",
      "  df = pd.read_csv(file_path)\n"
     ]
    }
   ],
   "source": [
    "main_folder = \"2021 Dataset\"\n",
    "\n",
    "all_data = []\n",
    "\n",
    "for month_folder in os.listdir(main_folder):\n",
    "    month_path = os.path.join(main_folder, month_folder)\n",
    "    if os.path.isdir(month_path):\n",
    "        for file in os.listdir(month_path):\n",
    "            if file.endswith(\".csv\"):\n",
    "                file_path = os.path.join(month_path, file)\n",
    "                df = pd.read_csv(file_path)\n",
    "                all_data.append(df)\n",
    "\n",
    "Data_2021 = pd.concat(all_data, ignore_index=True)"
   ]
  },
  {
   "cell_type": "code",
   "execution_count": 17,
   "id": "01d26a17",
   "metadata": {},
   "outputs": [
    {
     "data": {
      "text/html": [
       "<div>\n",
       "<style scoped>\n",
       "    .dataframe tbody tr th:only-of-type {\n",
       "        vertical-align: middle;\n",
       "    }\n",
       "\n",
       "    .dataframe tbody tr th {\n",
       "        vertical-align: top;\n",
       "    }\n",
       "\n",
       "    .dataframe thead th {\n",
       "        text-align: right;\n",
       "    }\n",
       "</style>\n",
       "<table border=\"1\" class=\"dataframe\">\n",
       "  <thead>\n",
       "    <tr style=\"text-align: right;\">\n",
       "      <th></th>\n",
       "      <th>TRDTYPE</th>\n",
       "      <th>USASTATE</th>\n",
       "      <th>DEPE</th>\n",
       "      <th>DISAGMOT</th>\n",
       "      <th>MEXSTATE</th>\n",
       "      <th>CANPROV</th>\n",
       "      <th>COUNTRY</th>\n",
       "      <th>VALUE</th>\n",
       "      <th>SHIPWT</th>\n",
       "      <th>FREIGHT_CHARGES</th>\n",
       "      <th>DF</th>\n",
       "      <th>CONTCODE</th>\n",
       "      <th>MONTH</th>\n",
       "      <th>YEAR</th>\n",
       "      <th>COMMODITY2</th>\n",
       "    </tr>\n",
       "  </thead>\n",
       "  <tbody>\n",
       "    <tr>\n",
       "      <th>0</th>\n",
       "      <td>1</td>\n",
       "      <td>AK</td>\n",
       "      <td>07XX</td>\n",
       "      <td>3</td>\n",
       "      <td>NaN</td>\n",
       "      <td>XO</td>\n",
       "      <td>1220</td>\n",
       "      <td>13504</td>\n",
       "      <td>47</td>\n",
       "      <td>401</td>\n",
       "      <td>1.0</td>\n",
       "      <td>X</td>\n",
       "      <td>4.0</td>\n",
       "      <td>2021</td>\n",
       "      <td>NaN</td>\n",
       "    </tr>\n",
       "    <tr>\n",
       "      <th>1</th>\n",
       "      <td>1</td>\n",
       "      <td>AK</td>\n",
       "      <td>18XX</td>\n",
       "      <td>1</td>\n",
       "      <td>XX</td>\n",
       "      <td>NaN</td>\n",
       "      <td>2010</td>\n",
       "      <td>6668</td>\n",
       "      <td>425</td>\n",
       "      <td>0</td>\n",
       "      <td>1.0</td>\n",
       "      <td>1</td>\n",
       "      <td>4.0</td>\n",
       "      <td>2021</td>\n",
       "      <td>NaN</td>\n",
       "    </tr>\n",
       "    <tr>\n",
       "      <th>2</th>\n",
       "      <td>1</td>\n",
       "      <td>AK</td>\n",
       "      <td>20XX</td>\n",
       "      <td>3</td>\n",
       "      <td>NaN</td>\n",
       "      <td>XA</td>\n",
       "      <td>1220</td>\n",
       "      <td>5108</td>\n",
       "      <td>584</td>\n",
       "      <td>80</td>\n",
       "      <td>1.0</td>\n",
       "      <td>X</td>\n",
       "      <td>4.0</td>\n",
       "      <td>2021</td>\n",
       "      <td>NaN</td>\n",
       "    </tr>\n",
       "    <tr>\n",
       "      <th>3</th>\n",
       "      <td>1</td>\n",
       "      <td>AK</td>\n",
       "      <td>20XX</td>\n",
       "      <td>3</td>\n",
       "      <td>NaN</td>\n",
       "      <td>XC</td>\n",
       "      <td>1220</td>\n",
       "      <td>24397</td>\n",
       "      <td>800</td>\n",
       "      <td>1002</td>\n",
       "      <td>1.0</td>\n",
       "      <td>X</td>\n",
       "      <td>4.0</td>\n",
       "      <td>2021</td>\n",
       "      <td>NaN</td>\n",
       "    </tr>\n",
       "    <tr>\n",
       "      <th>4</th>\n",
       "      <td>1</td>\n",
       "      <td>AK</td>\n",
       "      <td>20XX</td>\n",
       "      <td>3</td>\n",
       "      <td>NaN</td>\n",
       "      <td>XC</td>\n",
       "      <td>1220</td>\n",
       "      <td>18429</td>\n",
       "      <td>101</td>\n",
       "      <td>80</td>\n",
       "      <td>2.0</td>\n",
       "      <td>X</td>\n",
       "      <td>4.0</td>\n",
       "      <td>2021</td>\n",
       "      <td>NaN</td>\n",
       "    </tr>\n",
       "  </tbody>\n",
       "</table>\n",
       "</div>"
      ],
      "text/plain": [
       "   TRDTYPE USASTATE  DEPE  DISAGMOT MEXSTATE CANPROV  COUNTRY  VALUE  SHIPWT  \\\n",
       "0        1       AK  07XX         3      NaN      XO     1220  13504      47   \n",
       "1        1       AK  18XX         1       XX     NaN     2010   6668     425   \n",
       "2        1       AK  20XX         3      NaN      XA     1220   5108     584   \n",
       "3        1       AK  20XX         3      NaN      XC     1220  24397     800   \n",
       "4        1       AK  20XX         3      NaN      XC     1220  18429     101   \n",
       "\n",
       "   FREIGHT_CHARGES   DF CONTCODE  MONTH  YEAR  COMMODITY2  \n",
       "0              401  1.0        X    4.0  2021         NaN  \n",
       "1                0  1.0        1    4.0  2021         NaN  \n",
       "2               80  1.0        X    4.0  2021         NaN  \n",
       "3             1002  1.0        X    4.0  2021         NaN  \n",
       "4               80  2.0        X    4.0  2021         NaN  "
      ]
     },
     "execution_count": 17,
     "metadata": {},
     "output_type": "execute_result"
    }
   ],
   "source": [
    "Data_2021.head(5)"
   ]
  },
  {
   "cell_type": "code",
   "execution_count": 18,
   "id": "fe95d5ee",
   "metadata": {},
   "outputs": [
    {
     "data": {
      "text/plain": [
       "(10982798, 15)"
      ]
     },
     "execution_count": 18,
     "metadata": {},
     "output_type": "execute_result"
    }
   ],
   "source": [
    "Data_2021.shape"
   ]
  },
  {
   "cell_type": "code",
   "execution_count": 19,
   "id": "29c9c304",
   "metadata": {},
   "outputs": [
    {
     "name": "stdout",
     "output_type": "stream",
     "text": [
      "<class 'pandas.core.frame.DataFrame'>\n",
      "RangeIndex: 10982798 entries, 0 to 10982797\n",
      "Data columns (total 15 columns):\n",
      " #   Column           Dtype  \n",
      "---  ------           -----  \n",
      " 0   TRDTYPE          int64  \n",
      " 1   USASTATE         object \n",
      " 2   DEPE             object \n",
      " 3   DISAGMOT         int64  \n",
      " 4   MEXSTATE         object \n",
      " 5   CANPROV          object \n",
      " 6   COUNTRY          int64  \n",
      " 7   VALUE            int64  \n",
      " 8   SHIPWT           int64  \n",
      " 9   FREIGHT_CHARGES  int64  \n",
      " 10  DF               float64\n",
      " 11  CONTCODE         object \n",
      " 12  MONTH            float64\n",
      " 13  YEAR             int64  \n",
      " 14  COMMODITY2       float64\n",
      "dtypes: float64(3), int64(7), object(5)\n",
      "memory usage: 1.2+ GB\n"
     ]
    }
   ],
   "source": [
    "Data_2021.info()"
   ]
  },
  {
   "cell_type": "code",
   "execution_count": 20,
   "id": "3fc95da5",
   "metadata": {},
   "outputs": [
    {
     "data": {
      "text/plain": [
       "TRDTYPE                  0\n",
       "USASTATE           1585494\n",
       "DEPE               6893957\n",
       "DISAGMOT                 0\n",
       "MEXSTATE           7907259\n",
       "CANPROV            5272979\n",
       "COUNTRY                  0\n",
       "VALUE                    0\n",
       "SHIPWT                   0\n",
       "FREIGHT_CHARGES          0\n",
       "DF                 3699070\n",
       "CONTCODE                 0\n",
       "MONTH               244796\n",
       "YEAR                     0\n",
       "COMMODITY2         2503347\n",
       "dtype: int64"
      ]
     },
     "execution_count": 20,
     "metadata": {},
     "output_type": "execute_result"
    }
   ],
   "source": [
    "Data_2021.isnull().sum()"
   ]
  },
  {
   "cell_type": "code",
   "execution_count": 21,
   "id": "cbf4d99c",
   "metadata": {},
   "outputs": [
    {
     "data": {
      "text/plain": [
       "MEXSTATE           0.719968\n",
       "DEPE               0.627705\n",
       "CANPROV            0.480113\n",
       "DF                 0.336806\n",
       "COMMODITY2         0.227933\n",
       "USASTATE           0.144362\n",
       "MONTH              0.022289\n",
       "TRDTYPE            0.000000\n",
       "DISAGMOT           0.000000\n",
       "COUNTRY            0.000000\n",
       "VALUE              0.000000\n",
       "SHIPWT             0.000000\n",
       "FREIGHT_CHARGES    0.000000\n",
       "CONTCODE           0.000000\n",
       "YEAR               0.000000\n",
       "dtype: float64"
      ]
     },
     "execution_count": 21,
     "metadata": {},
     "output_type": "execute_result"
    }
   ],
   "source": [
    "Data_2021.isnull().mean().sort_values(ascending=False)"
   ]
  },
  {
   "cell_type": "code",
   "execution_count": 22,
   "id": "f880e084",
   "metadata": {},
   "outputs": [],
   "source": [
    "Data_2021_1 = Data_2021.drop(columns=[\"DEPE\", \"MEXSTATE\", \"CANPROV\"])"
   ]
  },
  {
   "cell_type": "code",
   "execution_count": 23,
   "id": "c6868f5c",
   "metadata": {},
   "outputs": [
    {
     "data": {
      "text/html": [
       "<div>\n",
       "<style scoped>\n",
       "    .dataframe tbody tr th:only-of-type {\n",
       "        vertical-align: middle;\n",
       "    }\n",
       "\n",
       "    .dataframe tbody tr th {\n",
       "        vertical-align: top;\n",
       "    }\n",
       "\n",
       "    .dataframe thead th {\n",
       "        text-align: right;\n",
       "    }\n",
       "</style>\n",
       "<table border=\"1\" class=\"dataframe\">\n",
       "  <thead>\n",
       "    <tr style=\"text-align: right;\">\n",
       "      <th></th>\n",
       "      <th>TRDTYPE</th>\n",
       "      <th>USASTATE</th>\n",
       "      <th>DISAGMOT</th>\n",
       "      <th>COUNTRY</th>\n",
       "      <th>VALUE</th>\n",
       "      <th>SHIPWT</th>\n",
       "      <th>FREIGHT_CHARGES</th>\n",
       "      <th>DF</th>\n",
       "      <th>CONTCODE</th>\n",
       "      <th>MONTH</th>\n",
       "      <th>YEAR</th>\n",
       "      <th>COMMODITY2</th>\n",
       "    </tr>\n",
       "  </thead>\n",
       "  <tbody>\n",
       "    <tr>\n",
       "      <th>0</th>\n",
       "      <td>1</td>\n",
       "      <td>AK</td>\n",
       "      <td>3</td>\n",
       "      <td>1220</td>\n",
       "      <td>13504</td>\n",
       "      <td>47</td>\n",
       "      <td>401</td>\n",
       "      <td>1.0</td>\n",
       "      <td>X</td>\n",
       "      <td>4.0</td>\n",
       "      <td>2021</td>\n",
       "      <td>NaN</td>\n",
       "    </tr>\n",
       "    <tr>\n",
       "      <th>1</th>\n",
       "      <td>1</td>\n",
       "      <td>AK</td>\n",
       "      <td>1</td>\n",
       "      <td>2010</td>\n",
       "      <td>6668</td>\n",
       "      <td>425</td>\n",
       "      <td>0</td>\n",
       "      <td>1.0</td>\n",
       "      <td>1</td>\n",
       "      <td>4.0</td>\n",
       "      <td>2021</td>\n",
       "      <td>NaN</td>\n",
       "    </tr>\n",
       "    <tr>\n",
       "      <th>2</th>\n",
       "      <td>1</td>\n",
       "      <td>AK</td>\n",
       "      <td>3</td>\n",
       "      <td>1220</td>\n",
       "      <td>5108</td>\n",
       "      <td>584</td>\n",
       "      <td>80</td>\n",
       "      <td>1.0</td>\n",
       "      <td>X</td>\n",
       "      <td>4.0</td>\n",
       "      <td>2021</td>\n",
       "      <td>NaN</td>\n",
       "    </tr>\n",
       "    <tr>\n",
       "      <th>3</th>\n",
       "      <td>1</td>\n",
       "      <td>AK</td>\n",
       "      <td>3</td>\n",
       "      <td>1220</td>\n",
       "      <td>24397</td>\n",
       "      <td>800</td>\n",
       "      <td>1002</td>\n",
       "      <td>1.0</td>\n",
       "      <td>X</td>\n",
       "      <td>4.0</td>\n",
       "      <td>2021</td>\n",
       "      <td>NaN</td>\n",
       "    </tr>\n",
       "    <tr>\n",
       "      <th>4</th>\n",
       "      <td>1</td>\n",
       "      <td>AK</td>\n",
       "      <td>3</td>\n",
       "      <td>1220</td>\n",
       "      <td>18429</td>\n",
       "      <td>101</td>\n",
       "      <td>80</td>\n",
       "      <td>2.0</td>\n",
       "      <td>X</td>\n",
       "      <td>4.0</td>\n",
       "      <td>2021</td>\n",
       "      <td>NaN</td>\n",
       "    </tr>\n",
       "  </tbody>\n",
       "</table>\n",
       "</div>"
      ],
      "text/plain": [
       "   TRDTYPE USASTATE  DISAGMOT  COUNTRY  VALUE  SHIPWT  FREIGHT_CHARGES   DF  \\\n",
       "0        1       AK         3     1220  13504      47              401  1.0   \n",
       "1        1       AK         1     2010   6668     425                0  1.0   \n",
       "2        1       AK         3     1220   5108     584               80  1.0   \n",
       "3        1       AK         3     1220  24397     800             1002  1.0   \n",
       "4        1       AK         3     1220  18429     101               80  2.0   \n",
       "\n",
       "  CONTCODE  MONTH  YEAR  COMMODITY2  \n",
       "0        X    4.0  2021         NaN  \n",
       "1        1    4.0  2021         NaN  \n",
       "2        X    4.0  2021         NaN  \n",
       "3        X    4.0  2021         NaN  \n",
       "4        X    4.0  2021         NaN  "
      ]
     },
     "execution_count": 23,
     "metadata": {},
     "output_type": "execute_result"
    }
   ],
   "source": [
    "Data_2021_1.head(5)"
   ]
  },
  {
   "cell_type": "code",
   "execution_count": 24,
   "id": "fb98da61",
   "metadata": {},
   "outputs": [
    {
     "data": {
      "text/plain": [
       "(10982798, 12)"
      ]
     },
     "execution_count": 24,
     "metadata": {},
     "output_type": "execute_result"
    }
   ],
   "source": [
    "Data_2021_1.shape"
   ]
  },
  {
   "cell_type": "code",
   "execution_count": 25,
   "id": "cfdb44bb",
   "metadata": {},
   "outputs": [
    {
     "name": "stderr",
     "output_type": "stream",
     "text": [
      "C:\\Users\\Law\\AppData\\Local\\Temp\\ipykernel_1144\\3661673831.py:1: FutureWarning: Series.fillna with 'method' is deprecated and will raise in a future version. Use obj.ffill() or obj.bfill() instead.\n",
      "  Data_2021_1[\"DF\"] = Data_2021_1[\"DF\"].fillna(method=\"ffill\")\n"
     ]
    }
   ],
   "source": [
    "Data_2021_1[\"DF\"] = Data_2021_1[\"DF\"].fillna(method=\"ffill\")"
   ]
  },
  {
   "cell_type": "code",
   "execution_count": 26,
   "id": "930fdf31",
   "metadata": {},
   "outputs": [],
   "source": [
    "Data_2021_cleaned = Data_2021_1.dropna()"
   ]
  },
  {
   "cell_type": "code",
   "execution_count": 27,
   "id": "4b8689a1",
   "metadata": {},
   "outputs": [
    {
     "data": {
      "text/plain": [
       "(6741826, 12)"
      ]
     },
     "execution_count": 27,
     "metadata": {},
     "output_type": "execute_result"
    }
   ],
   "source": [
    "Data_2021_cleaned.shape"
   ]
  },
  {
   "cell_type": "code",
   "execution_count": 32,
   "id": "bee8a35c",
   "metadata": {},
   "outputs": [
    {
     "data": {
      "text/plain": [
       "TRDTYPE            0\n",
       "USASTATE           0\n",
       "DISAGMOT           0\n",
       "COUNTRY            0\n",
       "VALUE              0\n",
       "SHIPWT             0\n",
       "FREIGHT_CHARGES    0\n",
       "DF                 0\n",
       "CONTCODE           0\n",
       "MONTH              0\n",
       "YEAR               0\n",
       "COMMODITY2         0\n",
       "dtype: int64"
      ]
     },
     "execution_count": 32,
     "metadata": {},
     "output_type": "execute_result"
    }
   ],
   "source": [
    "Data_2021_cleaned.isnull().sum()"
   ]
  },
  {
   "cell_type": "code",
   "execution_count": 33,
   "id": "8bcfcb7b",
   "metadata": {},
   "outputs": [
    {
     "name": "stderr",
     "output_type": "stream",
     "text": [
      "C:\\Users\\Law\\AppData\\Local\\Temp\\ipykernel_1144\\921325311.py:11: DtypeWarning: Columns (4,11) have mixed types. Specify dtype option on import or set low_memory=False.\n",
      "  df = pd.read_csv(file_path)\n",
      "C:\\Users\\Law\\AppData\\Local\\Temp\\ipykernel_1144\\921325311.py:11: DtypeWarning: Columns (9) have mixed types. Specify dtype option on import or set low_memory=False.\n",
      "  df = pd.read_csv(file_path)\n",
      "C:\\Users\\Law\\AppData\\Local\\Temp\\ipykernel_1144\\921325311.py:11: DtypeWarning: Columns (4,11) have mixed types. Specify dtype option on import or set low_memory=False.\n",
      "  df = pd.read_csv(file_path)\n",
      "C:\\Users\\Law\\AppData\\Local\\Temp\\ipykernel_1144\\921325311.py:11: DtypeWarning: Columns (4,11) have mixed types. Specify dtype option on import or set low_memory=False.\n",
      "  df = pd.read_csv(file_path)\n",
      "C:\\Users\\Law\\AppData\\Local\\Temp\\ipykernel_1144\\921325311.py:11: DtypeWarning: Columns (4,8) have mixed types. Specify dtype option on import or set low_memory=False.\n",
      "  df = pd.read_csv(file_path)\n",
      "C:\\Users\\Law\\AppData\\Local\\Temp\\ipykernel_1144\\921325311.py:11: DtypeWarning: Columns (4,11) have mixed types. Specify dtype option on import or set low_memory=False.\n",
      "  df = pd.read_csv(file_path)\n",
      "C:\\Users\\Law\\AppData\\Local\\Temp\\ipykernel_1144\\921325311.py:11: DtypeWarning: Columns (4,11) have mixed types. Specify dtype option on import or set low_memory=False.\n",
      "  df = pd.read_csv(file_path)\n",
      "C:\\Users\\Law\\AppData\\Local\\Temp\\ipykernel_1144\\921325311.py:11: DtypeWarning: Columns (4,11) have mixed types. Specify dtype option on import or set low_memory=False.\n",
      "  df = pd.read_csv(file_path)\n",
      "C:\\Users\\Law\\AppData\\Local\\Temp\\ipykernel_1144\\921325311.py:11: DtypeWarning: Columns (4,11) have mixed types. Specify dtype option on import or set low_memory=False.\n",
      "  df = pd.read_csv(file_path)\n",
      "C:\\Users\\Law\\AppData\\Local\\Temp\\ipykernel_1144\\921325311.py:11: DtypeWarning: Columns (4,11) have mixed types. Specify dtype option on import or set low_memory=False.\n",
      "  df = pd.read_csv(file_path)\n",
      "C:\\Users\\Law\\AppData\\Local\\Temp\\ipykernel_1144\\921325311.py:11: DtypeWarning: Columns (4,11) have mixed types. Specify dtype option on import or set low_memory=False.\n",
      "  df = pd.read_csv(file_path)\n",
      "C:\\Users\\Law\\AppData\\Local\\Temp\\ipykernel_1144\\921325311.py:11: DtypeWarning: Columns (4,11) have mixed types. Specify dtype option on import or set low_memory=False.\n",
      "  df = pd.read_csv(file_path)\n",
      "C:\\Users\\Law\\AppData\\Local\\Temp\\ipykernel_1144\\921325311.py:11: DtypeWarning: Columns (4,11) have mixed types. Specify dtype option on import or set low_memory=False.\n",
      "  df = pd.read_csv(file_path)\n",
      "C:\\Users\\Law\\AppData\\Local\\Temp\\ipykernel_1144\\921325311.py:11: DtypeWarning: Columns (4,11) have mixed types. Specify dtype option on import or set low_memory=False.\n",
      "  df = pd.read_csv(file_path)\n",
      "C:\\Users\\Law\\AppData\\Local\\Temp\\ipykernel_1144\\921325311.py:11: DtypeWarning: Columns (4,11) have mixed types. Specify dtype option on import or set low_memory=False.\n",
      "  df = pd.read_csv(file_path)\n",
      "C:\\Users\\Law\\AppData\\Local\\Temp\\ipykernel_1144\\921325311.py:11: DtypeWarning: Columns (4,11) have mixed types. Specify dtype option on import or set low_memory=False.\n",
      "  df = pd.read_csv(file_path)\n",
      "C:\\Users\\Law\\AppData\\Local\\Temp\\ipykernel_1144\\921325311.py:11: DtypeWarning: Columns (4,11) have mixed types. Specify dtype option on import or set low_memory=False.\n",
      "  df = pd.read_csv(file_path)\n",
      "C:\\Users\\Law\\AppData\\Local\\Temp\\ipykernel_1144\\921325311.py:11: DtypeWarning: Columns (4,11) have mixed types. Specify dtype option on import or set low_memory=False.\n",
      "  df = pd.read_csv(file_path)\n",
      "C:\\Users\\Law\\AppData\\Local\\Temp\\ipykernel_1144\\921325311.py:11: DtypeWarning: Columns (4,11) have mixed types. Specify dtype option on import or set low_memory=False.\n",
      "  df = pd.read_csv(file_path)\n",
      "C:\\Users\\Law\\AppData\\Local\\Temp\\ipykernel_1144\\921325311.py:11: DtypeWarning: Columns (4,11) have mixed types. Specify dtype option on import or set low_memory=False.\n",
      "  df = pd.read_csv(file_path)\n",
      "C:\\Users\\Law\\AppData\\Local\\Temp\\ipykernel_1144\\921325311.py:11: DtypeWarning: Columns (4,11) have mixed types. Specify dtype option on import or set low_memory=False.\n",
      "  df = pd.read_csv(file_path)\n"
     ]
    }
   ],
   "source": [
    "main_folder = \"2022 Dataset\"\n",
    "\n",
    "all_data = []\n",
    "\n",
    "for month_folder in os.listdir(main_folder):\n",
    "    month_path = os.path.join(main_folder, month_folder)\n",
    "    if os.path.isdir(month_path):\n",
    "        for file in os.listdir(month_path):\n",
    "            if file.endswith(\".csv\"):\n",
    "                file_path = os.path.join(month_path, file)\n",
    "                df = pd.read_csv(file_path)\n",
    "                all_data.append(df)\n",
    "\n",
    "Data_2022 = pd.concat(all_data, ignore_index=True)"
   ]
  },
  {
   "cell_type": "code",
   "execution_count": 34,
   "id": "e774d5a4",
   "metadata": {},
   "outputs": [
    {
     "data": {
      "text/html": [
       "<div>\n",
       "<style scoped>\n",
       "    .dataframe tbody tr th:only-of-type {\n",
       "        vertical-align: middle;\n",
       "    }\n",
       "\n",
       "    .dataframe tbody tr th {\n",
       "        vertical-align: top;\n",
       "    }\n",
       "\n",
       "    .dataframe thead th {\n",
       "        text-align: right;\n",
       "    }\n",
       "</style>\n",
       "<table border=\"1\" class=\"dataframe\">\n",
       "  <thead>\n",
       "    <tr style=\"text-align: right;\">\n",
       "      <th></th>\n",
       "      <th>TRDTYPE</th>\n",
       "      <th>USASTATE</th>\n",
       "      <th>DEPE</th>\n",
       "      <th>DISAGMOT</th>\n",
       "      <th>MEXSTATE</th>\n",
       "      <th>CANPROV</th>\n",
       "      <th>COUNTRY</th>\n",
       "      <th>VALUE</th>\n",
       "      <th>SHIPWT</th>\n",
       "      <th>FREIGHT_CHARGES</th>\n",
       "      <th>DF</th>\n",
       "      <th>CONTCODE</th>\n",
       "      <th>MONTH</th>\n",
       "      <th>YEAR</th>\n",
       "      <th>COMMODITY2</th>\n",
       "    </tr>\n",
       "  </thead>\n",
       "  <tbody>\n",
       "    <tr>\n",
       "      <th>0</th>\n",
       "      <td>1</td>\n",
       "      <td>AK</td>\n",
       "      <td>09XX</td>\n",
       "      <td>3</td>\n",
       "      <td>NaN</td>\n",
       "      <td>XC</td>\n",
       "      <td>1220</td>\n",
       "      <td>7091</td>\n",
       "      <td>36</td>\n",
       "      <td>644</td>\n",
       "      <td>1.0</td>\n",
       "      <td>X</td>\n",
       "      <td>4.0</td>\n",
       "      <td>2022.0</td>\n",
       "      <td>NaN</td>\n",
       "    </tr>\n",
       "    <tr>\n",
       "      <th>1</th>\n",
       "      <td>1</td>\n",
       "      <td>AK</td>\n",
       "      <td>19XX</td>\n",
       "      <td>1</td>\n",
       "      <td>XX</td>\n",
       "      <td>NaN</td>\n",
       "      <td>2010</td>\n",
       "      <td>39775</td>\n",
       "      <td>33470</td>\n",
       "      <td>0</td>\n",
       "      <td>1.0</td>\n",
       "      <td>0</td>\n",
       "      <td>4.0</td>\n",
       "      <td>2022.0</td>\n",
       "      <td>NaN</td>\n",
       "    </tr>\n",
       "    <tr>\n",
       "      <th>2</th>\n",
       "      <td>1</td>\n",
       "      <td>AK</td>\n",
       "      <td>20XX</td>\n",
       "      <td>3</td>\n",
       "      <td>NaN</td>\n",
       "      <td>XA</td>\n",
       "      <td>1220</td>\n",
       "      <td>11775</td>\n",
       "      <td>425</td>\n",
       "      <td>438</td>\n",
       "      <td>1.0</td>\n",
       "      <td>X</td>\n",
       "      <td>4.0</td>\n",
       "      <td>2022.0</td>\n",
       "      <td>NaN</td>\n",
       "    </tr>\n",
       "    <tr>\n",
       "      <th>3</th>\n",
       "      <td>1</td>\n",
       "      <td>AK</td>\n",
       "      <td>20XX</td>\n",
       "      <td>3</td>\n",
       "      <td>NaN</td>\n",
       "      <td>XA</td>\n",
       "      <td>1220</td>\n",
       "      <td>11103</td>\n",
       "      <td>17</td>\n",
       "      <td>37</td>\n",
       "      <td>2.0</td>\n",
       "      <td>X</td>\n",
       "      <td>4.0</td>\n",
       "      <td>2022.0</td>\n",
       "      <td>NaN</td>\n",
       "    </tr>\n",
       "    <tr>\n",
       "      <th>4</th>\n",
       "      <td>1</td>\n",
       "      <td>AK</td>\n",
       "      <td>20XX</td>\n",
       "      <td>3</td>\n",
       "      <td>NaN</td>\n",
       "      <td>XC</td>\n",
       "      <td>1220</td>\n",
       "      <td>45731</td>\n",
       "      <td>550</td>\n",
       "      <td>3548</td>\n",
       "      <td>1.0</td>\n",
       "      <td>X</td>\n",
       "      <td>4.0</td>\n",
       "      <td>2022.0</td>\n",
       "      <td>NaN</td>\n",
       "    </tr>\n",
       "  </tbody>\n",
       "</table>\n",
       "</div>"
      ],
      "text/plain": [
       "   TRDTYPE USASTATE  DEPE  DISAGMOT MEXSTATE CANPROV  COUNTRY  VALUE  SHIPWT  \\\n",
       "0        1       AK  09XX         3      NaN      XC     1220   7091      36   \n",
       "1        1       AK  19XX         1       XX     NaN     2010  39775   33470   \n",
       "2        1       AK  20XX         3      NaN      XA     1220  11775     425   \n",
       "3        1       AK  20XX         3      NaN      XA     1220  11103      17   \n",
       "4        1       AK  20XX         3      NaN      XC     1220  45731     550   \n",
       "\n",
       "   FREIGHT_CHARGES   DF CONTCODE  MONTH    YEAR  COMMODITY2  \n",
       "0              644  1.0        X    4.0  2022.0         NaN  \n",
       "1                0  1.0        0    4.0  2022.0         NaN  \n",
       "2              438  1.0        X    4.0  2022.0         NaN  \n",
       "3               37  2.0        X    4.0  2022.0         NaN  \n",
       "4             3548  1.0        X    4.0  2022.0         NaN  "
      ]
     },
     "execution_count": 34,
     "metadata": {},
     "output_type": "execute_result"
    }
   ],
   "source": [
    "Data_2022.head(5)"
   ]
  },
  {
   "cell_type": "code",
   "execution_count": 35,
   "id": "f88632da",
   "metadata": {},
   "outputs": [
    {
     "data": {
      "text/plain": [
       "(11275950, 15)"
      ]
     },
     "execution_count": 35,
     "metadata": {},
     "output_type": "execute_result"
    }
   ],
   "source": [
    "Data_2022.shape"
   ]
  },
  {
   "cell_type": "code",
   "execution_count": 36,
   "id": "cb07553b",
   "metadata": {},
   "outputs": [
    {
     "name": "stdout",
     "output_type": "stream",
     "text": [
      "<class 'pandas.core.frame.DataFrame'>\n",
      "RangeIndex: 11275950 entries, 0 to 11275949\n",
      "Data columns (total 15 columns):\n",
      " #   Column           Dtype  \n",
      "---  ------           -----  \n",
      " 0   TRDTYPE          int64  \n",
      " 1   USASTATE         object \n",
      " 2   DEPE             object \n",
      " 3   DISAGMOT         int64  \n",
      " 4   MEXSTATE         object \n",
      " 5   CANPROV          object \n",
      " 6   COUNTRY          int64  \n",
      " 7   VALUE            int64  \n",
      " 8   SHIPWT           int64  \n",
      " 9   FREIGHT_CHARGES  int64  \n",
      " 10  DF               float64\n",
      " 11  CONTCODE         object \n",
      " 12  MONTH            float64\n",
      " 13  YEAR             float64\n",
      " 14  COMMODITY2       float64\n",
      "dtypes: float64(4), int64(6), object(5)\n",
      "memory usage: 1.3+ GB\n"
     ]
    }
   ],
   "source": [
    "Data_2022.info()"
   ]
  },
  {
   "cell_type": "code",
   "execution_count": 37,
   "id": "8d530e76",
   "metadata": {},
   "outputs": [
    {
     "data": {
      "text/plain": [
       "TRDTYPE                  0\n",
       "USASTATE           1608142\n",
       "DEPE               7072201\n",
       "DISAGMOT                 0\n",
       "MEXSTATE           8155920\n",
       "CANPROV            5359120\n",
       "COUNTRY                  0\n",
       "VALUE                    0\n",
       "SHIPWT                   0\n",
       "FREIGHT_CHARGES          0\n",
       "DF                 3782804\n",
       "CONTCODE                 0\n",
       "MONTH               251866\n",
       "YEAR                     1\n",
       "COMMODITY2         2595607\n",
       "dtype: int64"
      ]
     },
     "execution_count": 37,
     "metadata": {},
     "output_type": "execute_result"
    }
   ],
   "source": [
    "Data_2022.isnull().sum()"
   ]
  },
  {
   "cell_type": "code",
   "execution_count": 38,
   "id": "f56d93bd",
   "metadata": {},
   "outputs": [
    {
     "data": {
      "text/plain": [
       "MEXSTATE           7.233022e-01\n",
       "DEPE               6.271934e-01\n",
       "CANPROV            4.752699e-01\n",
       "DF                 3.354754e-01\n",
       "COMMODITY2         2.301897e-01\n",
       "USASTATE           1.426170e-01\n",
       "MONTH              2.233657e-02\n",
       "YEAR               8.868432e-08\n",
       "TRDTYPE            0.000000e+00\n",
       "DISAGMOT           0.000000e+00\n",
       "COUNTRY            0.000000e+00\n",
       "VALUE              0.000000e+00\n",
       "SHIPWT             0.000000e+00\n",
       "FREIGHT_CHARGES    0.000000e+00\n",
       "CONTCODE           0.000000e+00\n",
       "dtype: float64"
      ]
     },
     "execution_count": 38,
     "metadata": {},
     "output_type": "execute_result"
    }
   ],
   "source": [
    "Data_2022.isnull().mean().sort_values(ascending=False)"
   ]
  },
  {
   "cell_type": "code",
   "execution_count": 39,
   "id": "76d92a0a",
   "metadata": {},
   "outputs": [],
   "source": [
    "Data_2022_1 = Data_2022.drop(columns=[\"DEPE\", \"MEXSTATE\", \"CANPROV\"])"
   ]
  },
  {
   "cell_type": "code",
   "execution_count": 40,
   "id": "38f9dd5c",
   "metadata": {},
   "outputs": [
    {
     "data": {
      "text/html": [
       "<div>\n",
       "<style scoped>\n",
       "    .dataframe tbody tr th:only-of-type {\n",
       "        vertical-align: middle;\n",
       "    }\n",
       "\n",
       "    .dataframe tbody tr th {\n",
       "        vertical-align: top;\n",
       "    }\n",
       "\n",
       "    .dataframe thead th {\n",
       "        text-align: right;\n",
       "    }\n",
       "</style>\n",
       "<table border=\"1\" class=\"dataframe\">\n",
       "  <thead>\n",
       "    <tr style=\"text-align: right;\">\n",
       "      <th></th>\n",
       "      <th>TRDTYPE</th>\n",
       "      <th>USASTATE</th>\n",
       "      <th>DISAGMOT</th>\n",
       "      <th>COUNTRY</th>\n",
       "      <th>VALUE</th>\n",
       "      <th>SHIPWT</th>\n",
       "      <th>FREIGHT_CHARGES</th>\n",
       "      <th>DF</th>\n",
       "      <th>CONTCODE</th>\n",
       "      <th>MONTH</th>\n",
       "      <th>YEAR</th>\n",
       "      <th>COMMODITY2</th>\n",
       "    </tr>\n",
       "  </thead>\n",
       "  <tbody>\n",
       "    <tr>\n",
       "      <th>0</th>\n",
       "      <td>1</td>\n",
       "      <td>AK</td>\n",
       "      <td>3</td>\n",
       "      <td>1220</td>\n",
       "      <td>7091</td>\n",
       "      <td>36</td>\n",
       "      <td>644</td>\n",
       "      <td>1.0</td>\n",
       "      <td>X</td>\n",
       "      <td>4.0</td>\n",
       "      <td>2022.0</td>\n",
       "      <td>NaN</td>\n",
       "    </tr>\n",
       "    <tr>\n",
       "      <th>1</th>\n",
       "      <td>1</td>\n",
       "      <td>AK</td>\n",
       "      <td>1</td>\n",
       "      <td>2010</td>\n",
       "      <td>39775</td>\n",
       "      <td>33470</td>\n",
       "      <td>0</td>\n",
       "      <td>1.0</td>\n",
       "      <td>0</td>\n",
       "      <td>4.0</td>\n",
       "      <td>2022.0</td>\n",
       "      <td>NaN</td>\n",
       "    </tr>\n",
       "    <tr>\n",
       "      <th>2</th>\n",
       "      <td>1</td>\n",
       "      <td>AK</td>\n",
       "      <td>3</td>\n",
       "      <td>1220</td>\n",
       "      <td>11775</td>\n",
       "      <td>425</td>\n",
       "      <td>438</td>\n",
       "      <td>1.0</td>\n",
       "      <td>X</td>\n",
       "      <td>4.0</td>\n",
       "      <td>2022.0</td>\n",
       "      <td>NaN</td>\n",
       "    </tr>\n",
       "    <tr>\n",
       "      <th>3</th>\n",
       "      <td>1</td>\n",
       "      <td>AK</td>\n",
       "      <td>3</td>\n",
       "      <td>1220</td>\n",
       "      <td>11103</td>\n",
       "      <td>17</td>\n",
       "      <td>37</td>\n",
       "      <td>2.0</td>\n",
       "      <td>X</td>\n",
       "      <td>4.0</td>\n",
       "      <td>2022.0</td>\n",
       "      <td>NaN</td>\n",
       "    </tr>\n",
       "    <tr>\n",
       "      <th>4</th>\n",
       "      <td>1</td>\n",
       "      <td>AK</td>\n",
       "      <td>3</td>\n",
       "      <td>1220</td>\n",
       "      <td>45731</td>\n",
       "      <td>550</td>\n",
       "      <td>3548</td>\n",
       "      <td>1.0</td>\n",
       "      <td>X</td>\n",
       "      <td>4.0</td>\n",
       "      <td>2022.0</td>\n",
       "      <td>NaN</td>\n",
       "    </tr>\n",
       "  </tbody>\n",
       "</table>\n",
       "</div>"
      ],
      "text/plain": [
       "   TRDTYPE USASTATE  DISAGMOT  COUNTRY  VALUE  SHIPWT  FREIGHT_CHARGES   DF  \\\n",
       "0        1       AK         3     1220   7091      36              644  1.0   \n",
       "1        1       AK         1     2010  39775   33470                0  1.0   \n",
       "2        1       AK         3     1220  11775     425              438  1.0   \n",
       "3        1       AK         3     1220  11103      17               37  2.0   \n",
       "4        1       AK         3     1220  45731     550             3548  1.0   \n",
       "\n",
       "  CONTCODE  MONTH    YEAR  COMMODITY2  \n",
       "0        X    4.0  2022.0         NaN  \n",
       "1        0    4.0  2022.0         NaN  \n",
       "2        X    4.0  2022.0         NaN  \n",
       "3        X    4.0  2022.0         NaN  \n",
       "4        X    4.0  2022.0         NaN  "
      ]
     },
     "execution_count": 40,
     "metadata": {},
     "output_type": "execute_result"
    }
   ],
   "source": [
    "Data_2022_1.head(5)"
   ]
  },
  {
   "cell_type": "code",
   "execution_count": 41,
   "id": "f39128c4",
   "metadata": {},
   "outputs": [
    {
     "data": {
      "text/plain": [
       "(11275950, 12)"
      ]
     },
     "execution_count": 41,
     "metadata": {},
     "output_type": "execute_result"
    }
   ],
   "source": [
    "Data_2022_1.shape"
   ]
  },
  {
   "cell_type": "code",
   "execution_count": 42,
   "id": "60b7490c",
   "metadata": {},
   "outputs": [
    {
     "name": "stderr",
     "output_type": "stream",
     "text": [
      "C:\\Users\\Law\\AppData\\Local\\Temp\\ipykernel_1144\\2423709285.py:1: FutureWarning: Series.fillna with 'method' is deprecated and will raise in a future version. Use obj.ffill() or obj.bfill() instead.\n",
      "  Data_2022_1[\"DF\"] = Data_2022_1[\"DF\"].fillna(method=\"ffill\")\n"
     ]
    }
   ],
   "source": [
    "Data_2022_1[\"DF\"] = Data_2022_1[\"DF\"].fillna(method=\"ffill\")"
   ]
  },
  {
   "cell_type": "code",
   "execution_count": 43,
   "id": "14c012c7",
   "metadata": {},
   "outputs": [],
   "source": [
    "Data_2022_cleaned = Data_2022_1.dropna()"
   ]
  },
  {
   "cell_type": "code",
   "execution_count": 44,
   "id": "abacdead",
   "metadata": {},
   "outputs": [
    {
     "data": {
      "text/plain": [
       "(6916002, 12)"
      ]
     },
     "execution_count": 44,
     "metadata": {},
     "output_type": "execute_result"
    }
   ],
   "source": [
    "Data_2022_cleaned.shape"
   ]
  },
  {
   "cell_type": "markdown",
   "id": "d033a3a2",
   "metadata": {},
   "source": [
    "### Data Visualization, Analysis, and Answering Key Questions\n",
    "\n",
    "1. Which modes of transportation (DISAGMOT) account for the highest total shipping weight (SHIPWT) and value (VALUE)?\n",
    "\n",
    "2. How does trade volume (by VALUE and SHIPWT) vary seasonally across different months (MONTH)?\n",
    "\n",
    "3. Which U.S. states (USASTATE) and countries (COUNTRY) contribute most to the volume and value of trade?\n",
    "\n",
    "4. What is the distribution of trade types (TRDTYPE) across domestic and foreign shipments (DF)?\n",
    "\n",
    "5. How does the container type (CONTCODE) usage vary by commodity classification (COMMODITY2)?\n",
    "\n",
    "6. Are there any trends or changes in trade volume and value by year (YEAR) across different transportation modes?\n",
    "\n",
    "7. Is there a correlation between shipping weight (SHIPWT) and trade value (VALUE) for different commodities and transportation modes?\n"
   ]
  },
  {
   "cell_type": "code",
   "execution_count": 17,
   "id": "db5da315",
   "metadata": {},
   "outputs": [],
   "source": [
    "import matplotlib.pyplot as plt\n",
    "import seaborn as sns"
   ]
  },
  {
   "cell_type": "code",
   "execution_count": null,
   "id": "a34b8a71",
   "metadata": {},
   "outputs": [],
   "source": []
  }
 ],
 "metadata": {
  "kernelspec": {
   "display_name": "Python 3",
   "language": "python",
   "name": "python3"
  },
  "language_info": {
   "codemirror_mode": {
    "name": "ipython",
    "version": 3
   },
   "file_extension": ".py",
   "mimetype": "text/x-python",
   "name": "python",
   "nbconvert_exporter": "python",
   "pygments_lexer": "ipython3",
   "version": "3.11.5"
  }
 },
 "nbformat": 4,
 "nbformat_minor": 5
}
