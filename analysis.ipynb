{
 "cells": [
  {
   "cell_type": "markdown",
   "id": "30e7b6b0",
   "metadata": {},
   "source": [
    "# Transportation Analysis \n",
    "In this project, I’m exploring transportation data from the Bureau of Transportation Statistics (BTS) to find insights about how people and goods move across the U.S., and where improvements can be made in safety, efficiency, and environmental impact.\n",
    "\n",
    "Because the dataset is quite large, I’ll be analyzing it year by year and comparing the results across different years. To start, I’m focusing on the data for 2020, digging into that year’s trends and patterns before moving on to others.\n",
    "\n",
    "This approach helps keep the analysis manageable and lets us clearly see how transportation dynamics change over time."
   ]
  },
  {
   "cell_type": "code",
   "execution_count": 11,
   "id": "b005de34",
   "metadata": {},
   "outputs": [
    {
     "name": "stderr",
     "output_type": "stream",
     "text": [
      "C:\\Users\\Law\\AppData\\Local\\Temp\\ipykernel_6436\\2315064610.py:14: DtypeWarning: Columns (9) have mixed types. Specify dtype option on import or set low_memory=False.\n",
      "  df = pd.read_csv(file_path)\n",
      "C:\\Users\\Law\\AppData\\Local\\Temp\\ipykernel_6436\\2315064610.py:14: DtypeWarning: Columns (4,11) have mixed types. Specify dtype option on import or set low_memory=False.\n",
      "  df = pd.read_csv(file_path)\n",
      "C:\\Users\\Law\\AppData\\Local\\Temp\\ipykernel_6436\\2315064610.py:14: DtypeWarning: Columns (4,11) have mixed types. Specify dtype option on import or set low_memory=False.\n",
      "  df = pd.read_csv(file_path)\n",
      "C:\\Users\\Law\\AppData\\Local\\Temp\\ipykernel_6436\\2315064610.py:14: DtypeWarning: Columns (9) have mixed types. Specify dtype option on import or set low_memory=False.\n",
      "  df = pd.read_csv(file_path)\n",
      "C:\\Users\\Law\\AppData\\Local\\Temp\\ipykernel_6436\\2315064610.py:14: DtypeWarning: Columns (4,11) have mixed types. Specify dtype option on import or set low_memory=False.\n",
      "  df = pd.read_csv(file_path)\n",
      "C:\\Users\\Law\\AppData\\Local\\Temp\\ipykernel_6436\\2315064610.py:14: DtypeWarning: Columns (4,11) have mixed types. Specify dtype option on import or set low_memory=False.\n",
      "  df = pd.read_csv(file_path)\n",
      "C:\\Users\\Law\\AppData\\Local\\Temp\\ipykernel_6436\\2315064610.py:14: DtypeWarning: Columns (4,11) have mixed types. Specify dtype option on import or set low_memory=False.\n",
      "  df = pd.read_csv(file_path)\n",
      "C:\\Users\\Law\\AppData\\Local\\Temp\\ipykernel_6436\\2315064610.py:14: DtypeWarning: Columns (4,11) have mixed types. Specify dtype option on import or set low_memory=False.\n",
      "  df = pd.read_csv(file_path)\n",
      "C:\\Users\\Law\\AppData\\Local\\Temp\\ipykernel_6436\\2315064610.py:14: DtypeWarning: Columns (4,11) have mixed types. Specify dtype option on import or set low_memory=False.\n",
      "  df = pd.read_csv(file_path)\n",
      "C:\\Users\\Law\\AppData\\Local\\Temp\\ipykernel_6436\\2315064610.py:14: DtypeWarning: Columns (4,11) have mixed types. Specify dtype option on import or set low_memory=False.\n",
      "  df = pd.read_csv(file_path)\n",
      "C:\\Users\\Law\\AppData\\Local\\Temp\\ipykernel_6436\\2315064610.py:14: DtypeWarning: Columns (4,11) have mixed types. Specify dtype option on import or set low_memory=False.\n",
      "  df = pd.read_csv(file_path)\n",
      "C:\\Users\\Law\\AppData\\Local\\Temp\\ipykernel_6436\\2315064610.py:14: DtypeWarning: Columns (4,11) have mixed types. Specify dtype option on import or set low_memory=False.\n",
      "  df = pd.read_csv(file_path)\n"
     ]
    }
   ],
   "source": [
    "import os\n",
    "import pandas as pd\n",
    "\n",
    "main_folder = \"2020 Dataset\"\n",
    "\n",
    "all_data = []\n",
    "\n",
    "for month_folder in os.listdir(main_folder):\n",
    "    month_path = os.path.join(main_folder, month_folder)\n",
    "    if os.path.isdir(month_path):\n",
    "        for file in os.listdir(month_path):\n",
    "            if file.endswith('.csv'):\n",
    "                file_path = os.path.join(month_path, file)\n",
    "                df = pd.read_csv(file_path)\n",
    "                all_data.append(df)\n",
    "\n",
    "law = pd.concat(all_data, ignore_index=True)\n"
   ]
  },
  {
   "cell_type": "code",
   "execution_count": 4,
   "id": "b4c92b6d",
   "metadata": {},
   "outputs": [
    {
     "data": {
      "text/html": [
       "<div>\n",
       "<style scoped>\n",
       "    .dataframe tbody tr th:only-of-type {\n",
       "        vertical-align: middle;\n",
       "    }\n",
       "\n",
       "    .dataframe tbody tr th {\n",
       "        vertical-align: top;\n",
       "    }\n",
       "\n",
       "    .dataframe thead th {\n",
       "        text-align: right;\n",
       "    }\n",
       "</style>\n",
       "<table border=\"1\" class=\"dataframe\">\n",
       "  <thead>\n",
       "    <tr style=\"text-align: right;\">\n",
       "      <th></th>\n",
       "      <th>TRDTYPE</th>\n",
       "      <th>USASTATE</th>\n",
       "      <th>DEPE</th>\n",
       "      <th>DISAGMOT</th>\n",
       "      <th>MEXSTATE</th>\n",
       "      <th>CANPROV</th>\n",
       "      <th>COUNTRY</th>\n",
       "      <th>VALUE</th>\n",
       "      <th>SHIPWT</th>\n",
       "      <th>FREIGHT_CHARGES</th>\n",
       "      <th>DF</th>\n",
       "      <th>CONTCODE</th>\n",
       "      <th>MONTH</th>\n",
       "      <th>YEAR</th>\n",
       "      <th>COMMODITY2</th>\n",
       "    </tr>\n",
       "  </thead>\n",
       "  <tbody>\n",
       "    <tr>\n",
       "      <th>0</th>\n",
       "      <td>1</td>\n",
       "      <td>AK</td>\n",
       "      <td>0115</td>\n",
       "      <td>5</td>\n",
       "      <td>NaN</td>\n",
       "      <td>XB</td>\n",
       "      <td>1220</td>\n",
       "      <td>4660</td>\n",
       "      <td>0</td>\n",
       "      <td>67</td>\n",
       "      <td>2.0</td>\n",
       "      <td>X</td>\n",
       "      <td>4</td>\n",
       "      <td>2020</td>\n",
       "      <td>NaN</td>\n",
       "    </tr>\n",
       "    <tr>\n",
       "      <th>1</th>\n",
       "      <td>1</td>\n",
       "      <td>AK</td>\n",
       "      <td>0901</td>\n",
       "      <td>5</td>\n",
       "      <td>NaN</td>\n",
       "      <td>XO</td>\n",
       "      <td>1220</td>\n",
       "      <td>14360</td>\n",
       "      <td>0</td>\n",
       "      <td>282</td>\n",
       "      <td>1.0</td>\n",
       "      <td>X</td>\n",
       "      <td>4</td>\n",
       "      <td>2020</td>\n",
       "      <td>NaN</td>\n",
       "    </tr>\n",
       "    <tr>\n",
       "      <th>2</th>\n",
       "      <td>1</td>\n",
       "      <td>AK</td>\n",
       "      <td>20XX</td>\n",
       "      <td>1</td>\n",
       "      <td>XX</td>\n",
       "      <td>NaN</td>\n",
       "      <td>2010</td>\n",
       "      <td>4293733</td>\n",
       "      <td>24971000</td>\n",
       "      <td>0</td>\n",
       "      <td>1.0</td>\n",
       "      <td>0</td>\n",
       "      <td>4</td>\n",
       "      <td>2020</td>\n",
       "      <td>NaN</td>\n",
       "    </tr>\n",
       "    <tr>\n",
       "      <th>3</th>\n",
       "      <td>1</td>\n",
       "      <td>AK</td>\n",
       "      <td>20XX</td>\n",
       "      <td>3</td>\n",
       "      <td>NaN</td>\n",
       "      <td>XA</td>\n",
       "      <td>1220</td>\n",
       "      <td>28283</td>\n",
       "      <td>443</td>\n",
       "      <td>563</td>\n",
       "      <td>1.0</td>\n",
       "      <td>X</td>\n",
       "      <td>4</td>\n",
       "      <td>2020</td>\n",
       "      <td>NaN</td>\n",
       "    </tr>\n",
       "    <tr>\n",
       "      <th>4</th>\n",
       "      <td>1</td>\n",
       "      <td>AK</td>\n",
       "      <td>20XX</td>\n",
       "      <td>3</td>\n",
       "      <td>NaN</td>\n",
       "      <td>XA</td>\n",
       "      <td>1220</td>\n",
       "      <td>29848</td>\n",
       "      <td>69</td>\n",
       "      <td>538</td>\n",
       "      <td>2.0</td>\n",
       "      <td>X</td>\n",
       "      <td>4</td>\n",
       "      <td>2020</td>\n",
       "      <td>NaN</td>\n",
       "    </tr>\n",
       "  </tbody>\n",
       "</table>\n",
       "</div>"
      ],
      "text/plain": [
       "   TRDTYPE USASTATE  DEPE  DISAGMOT MEXSTATE CANPROV  COUNTRY    VALUE  \\\n",
       "0        1       AK  0115         5      NaN      XB     1220     4660   \n",
       "1        1       AK  0901         5      NaN      XO     1220    14360   \n",
       "2        1       AK  20XX         1       XX     NaN     2010  4293733   \n",
       "3        1       AK  20XX         3      NaN      XA     1220    28283   \n",
       "4        1       AK  20XX         3      NaN      XA     1220    29848   \n",
       "\n",
       "     SHIPWT  FREIGHT_CHARGES   DF CONTCODE  MONTH  YEAR  COMMODITY2  \n",
       "0         0               67  2.0        X      4  2020         NaN  \n",
       "1         0              282  1.0        X      4  2020         NaN  \n",
       "2  24971000                0  1.0        0      4  2020         NaN  \n",
       "3       443              563  1.0        X      4  2020         NaN  \n",
       "4        69              538  2.0        X      4  2020         NaN  "
      ]
     },
     "execution_count": 4,
     "metadata": {},
     "output_type": "execute_result"
    }
   ],
   "source": [
    "law.head(5)"
   ]
  },
  {
   "cell_type": "code",
   "execution_count": 7,
   "id": "f76764b9",
   "metadata": {},
   "outputs": [
    {
     "data": {
      "text/plain": [
       "(6104767, 15)"
      ]
     },
     "execution_count": 7,
     "metadata": {},
     "output_type": "execute_result"
    }
   ],
   "source": [
    "law.shape"
   ]
  },
  {
   "cell_type": "code",
   "execution_count": 5,
   "id": "d090c64e",
   "metadata": {},
   "outputs": [
    {
     "name": "stdout",
     "output_type": "stream",
     "text": [
      "<class 'pandas.core.frame.DataFrame'>\n",
      "RangeIndex: 6104767 entries, 0 to 6104766\n",
      "Data columns (total 15 columns):\n",
      " #   Column           Dtype  \n",
      "---  ------           -----  \n",
      " 0   TRDTYPE          int64  \n",
      " 1   USASTATE         object \n",
      " 2   DEPE             object \n",
      " 3   DISAGMOT         int64  \n",
      " 4   MEXSTATE         object \n",
      " 5   CANPROV          object \n",
      " 6   COUNTRY          int64  \n",
      " 7   VALUE            int64  \n",
      " 8   SHIPWT           int64  \n",
      " 9   FREIGHT_CHARGES  int64  \n",
      " 10  DF               float64\n",
      " 11  CONTCODE         object \n",
      " 12  MONTH            int64  \n",
      " 13  YEAR             int64  \n",
      " 14  COMMODITY2       float64\n",
      "dtypes: float64(2), int64(8), object(5)\n",
      "memory usage: 698.6+ MB\n"
     ]
    }
   ],
   "source": [
    "law.info()"
   ]
  },
  {
   "cell_type": "code",
   "execution_count": 8,
   "id": "80136d6c",
   "metadata": {},
   "outputs": [
    {
     "data": {
      "text/plain": [
       "TRDTYPE                  0\n",
       "USASTATE            892060\n",
       "DEPE               3818938\n",
       "DISAGMOT                 0\n",
       "MEXSTATE           4429425\n",
       "CANPROV            2907525\n",
       "COUNTRY                  0\n",
       "VALUE                    0\n",
       "SHIPWT                   0\n",
       "FREIGHT_CHARGES          0\n",
       "DF                 2067188\n",
       "CONTCODE                 0\n",
       "MONTH                    0\n",
       "YEAR                     0\n",
       "COMMODITY2         1393769\n",
       "dtype: int64"
      ]
     },
     "execution_count": 8,
     "metadata": {},
     "output_type": "execute_result"
    }
   ],
   "source": [
    "law.isnull().sum()"
   ]
  },
  {
   "cell_type": "code",
   "execution_count": 10,
   "id": "0ab1c51c",
   "metadata": {},
   "outputs": [
    {
     "data": {
      "text/plain": [
       "5024613"
      ]
     },
     "execution_count": 10,
     "metadata": {},
     "output_type": "execute_result"
    }
   ],
   "source": [
    "law.duplicated().sum()"
   ]
  },
  {
   "cell_type": "code",
   "execution_count": null,
   "id": "8443974f",
   "metadata": {},
   "outputs": [],
   "source": []
  }
 ],
 "metadata": {
  "kernelspec": {
   "display_name": "Python 3",
   "language": "python",
   "name": "python3"
  },
  "language_info": {
   "codemirror_mode": {
    "name": "ipython",
    "version": 3
   },
   "file_extension": ".py",
   "mimetype": "text/x-python",
   "name": "python",
   "nbconvert_exporter": "python",
   "pygments_lexer": "ipython3",
   "version": "3.11.5"
  }
 },
 "nbformat": 4,
 "nbformat_minor": 5
}
